{
 "cells": [
  {
   "cell_type": "markdown",
   "id": "dcf2d12a",
   "metadata": {},
   "source": [
    "# Data Cleaning Code:\n",
    "This code will remove mentions, hashtags, and URLs. It will also remove punctuation and any non-alphanumeric characters from the text.\n",
    "    "
   ]
  },
  {
   "cell_type": "code",
   "execution_count": 2,
   "id": "b7d5e5fc",
   "metadata": {},
   "source": [
    "import pandas as pd\n",
    "import re\n",
    "\n",
    "##Read in the Excel sheet as a DataFrame\n",
    "df = pd.read_excel('twitter_data.xlsx')\n",
    "\n",
    "# remove mentions\n",
    "df['text'] = df['text'].apply(lambda x: re.sub(r'@\\w+', '', x))\n",
    "\n",
    "# remove hashtags\n",
    "df['text'] = df['text'].apply(lambda x: re.sub(r'#\\w+', '', x))\n",
    "\n",
    "# remove URLs\n",
    "df['text'] = df['text'].apply(lambda x: re.sub(r'http\\S+', '', x))\n",
    "\n",
    "# Remove any rows with missing values\n",
    "df.dropna(inplace=True)\n",
    "\n",
    "# Remove any duplicate rows\n",
    "df.drop_duplicates(inplace=True)\n",
    "\n",
    "# Remove any tweets that are retweets\n",
    "df = df[~df['text'].str.startswith('RT')]\n",
    "\n",
    "# Remove any tweets that are replies\n",
    "df = df[df['text'].str.startswith('@')==False]\n",
    "\n",
    "# Lowercase all text in the 'text' column\n",
    "df['text'] = df['text'].str.lower()\n",
    "\n",
    "# Remove any special characters or numbers from the 'text' column\n",
    "df['text'] = df['text'].str.replace('[^a-zA-Z\\s]', '')\n",
    "\n",
    "# Remove any whitespace at the beginning or end of the 'text' column\n",
    "df['text'] = df['text'].str.strip()\n",
    "\n",
    "# Remove punctuation and any non-alphanumeric characters\n",
    "df['text'] = df['text'].apply(lambda x: re.sub(r'[^\\w\\s]', '', x))\n",
    "\n"
   ]
  },
  {
   "cell_type": "code",
   "execution_count": null,
   "id": "741eb600",
   "metadata": {},
   "outputs": [],
   "source": []
  }
 ],
 "metadata": {
  "kernelspec": {
   "display_name": "Python 3 (ipykernel)",
   "language": "python",
   "name": "python3"
  },
  "language_info": {
   "codemirror_mode": {
    "name": "ipython",
    "version": 3
   },
   "file_extension": ".py",
   "mimetype": "text/x-python",
   "name": "python",
   "nbconvert_exporter": "python",
   "pygments_lexer": "ipython3",
   "version": "3.9.7"
  }
 },
 "nbformat": 4,
 "nbformat_minor": 5
}
